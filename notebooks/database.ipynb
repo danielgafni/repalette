{
 "cells": [
  {
   "cell_type": "code",
   "execution_count": 1,
   "metadata": {},
   "outputs": [],
   "source": [
    "import requests\n",
    "import argparse\n",
    "from bs4 import BeautifulSoup\n",
    "from tqdm import tqdm\n",
    "import io\n",
    "import os\n",
    "from sqlalchemy import create_engine\n",
    "from sqlalchemy.orm import sessionmaker\n",
    "from sqlalchemy.exc import IntegrityError\n",
    "\n",
    "from multiprocessing import Pool\n",
    "from PIL import Image\n",
    "\n",
    "from repalette.constants import BASE_DATA_DIR, RAW_DATA_DIR, DATA_DIR, DATABASE_PATH\n",
    "from repalette.utils.models import RawImage\n",
    "from repalette.utils.models import Base"
   ]
  },
  {
   "cell_type": "code",
   "execution_count": 2,
   "metadata": {},
   "outputs": [],
   "source": [
    "DESIGN_SEEDS_PAGES_ROOT = r\"https://www.design-seeds.com/blog/page/\""
   ]
  },
  {
   "cell_type": "code",
   "execution_count": 3,
   "metadata": {},
   "outputs": [],
   "source": [
    "from repalette.utils.data_preparation import get_image_urls_and_palettes, get_image_name"
   ]
  },
  {
   "cell_type": "code",
   "execution_count": 4,
   "metadata": {},
   "outputs": [
    {
     "name": "stderr",
     "output_type": "stream",
     "text": [
      "Pages downloaded: 6it [00:06,  1.23s/it]"
     ]
    }
   ],
   "source": [
    "image_urls = []\n",
    "palettes = []\n",
    "\n",
    "i = 0\n",
    "bar = tqdm(desc=\"Pages downloaded\")\n",
    "response = requests.get(DESIGN_SEEDS_PAGES_ROOT + str(i))\n",
    "bar.update(n=1)\n",
    "while response.status_code != 404:\n",
    "    bs = BeautifulSoup(response.content, \"html.parser\")\n",
    "    posts = bs.find_all(class_=\"entry-content\")\n",
    "\n",
    "    for post in posts:\n",
    "        image_url = post.find_all(class_=\"attachment-full\")[0][\"src\"]\n",
    "        palette = [header.text for header in post.find_all(\"h5\")[1:]]\n",
    "\n",
    "        image_urls.append(image_url)\n",
    "        palettes.append(palette)\n",
    "        \n",
    "    bar.update(n=1)\n",
    "\n",
    "    i += 1\n",
    "    response = requests.get(DESIGN_SEEDS_PAGES_ROOT + str(i))\n",
    "    \n",
    "    if i == 5:\n",
    "        break"
   ]
  },
  {
   "cell_type": "code",
   "execution_count": 4,
   "metadata": {},
   "outputs": [],
   "source": [
    "if not os.path.exists(BASE_DATA_DIR):\n",
    "    os.mkdir(BASE_DATA_DIR)\n",
    "if not os.path.exists(RAW_DATA_DIR):\n",
    "    os.mkdir(RAW_DATA_DIR)\n",
    "if not os.path.exists(DATA_DIR):\n",
    "    os.mkdir(DATA_DIR)\n",
    "\n",
    "engine = create_engine(f\"sqlite:///{DATABASE_PATH}\")\n",
    "# create a configured \"Session\" class\n",
    "Session = sessionmaker(bind=engine)\n",
    "Base.metadata.create_all(engine)"
   ]
  },
  {
   "cell_type": "code",
   "execution_count": 6,
   "metadata": {},
   "outputs": [],
   "source": [
    "def download_image_to_database(image):\n",
    "    image_url, palette = image\n",
    "    image_name = get_image_name(image_url)\n",
    "    image_save_path = os.path.join(DATA_DIR, image_name)\n",
    "\n",
    "    # create a database Session\n",
    "    session = Session()\n",
    "\n",
    "    raw_image = RawImage(\n",
    "        path=image_save_path,\n",
    "        palette=palette,\n",
    "        url=image_url,\n",
    "        name=image_name,\n",
    "    )\n",
    "    try:\n",
    "        session.add(raw_image)\n",
    "        # if add successful (new image) - download image\n",
    "        image_data = requests.get(image_url).content\n",
    "        image = Image.open(io.BytesIO(image_data))\n",
    "        raw_image.height = image.height\n",
    "        raw_image.width = image.width\n",
    "        session.commit()\n",
    "        # save image on disk\n",
    "        image.save(image_save_path, \"PNG\")\n",
    "\n",
    "    except IntegrityError:  # image already in the database\n",
    "        pass"
   ]
  },
  {
   "cell_type": "code",
   "execution_count": 7,
   "metadata": {},
   "outputs": [
    {
     "name": "stderr",
     "output_type": "stream",
     "text": [
      "\n",
      "Pages downloaded: 6it [00:13,  2.21s/it]A\n",
      "\n",
      "  3%|▎         | 1/30 [00:01<00:49,  1.71s/it]\u001b[A\n",
      "  7%|▋         | 2/30 [00:01<00:35,  1.27s/it]\u001b[A\n",
      " 13%|█▎        | 4/30 [00:02<00:23,  1.09it/s]\u001b[A\n",
      " 17%|█▋        | 5/30 [00:02<00:18,  1.38it/s]\u001b[A\n",
      " 23%|██▎       | 7/30 [00:02<00:12,  1.85it/s]\u001b[A\n",
      " 30%|███       | 9/30 [00:02<00:08,  2.34it/s]\u001b[A\n",
      " 33%|███▎      | 10/30 [00:03<00:08,  2.39it/s]\u001b[A\n",
      " 43%|████▎     | 13/30 [00:03<00:05,  2.92it/s]\u001b[A\n",
      " 47%|████▋     | 14/30 [00:04<00:05,  3.15it/s]\u001b[A\n",
      " 50%|█████     | 15/30 [00:04<00:05,  2.88it/s]\u001b[A\n",
      " 57%|█████▋    | 17/30 [00:04<00:03,  3.35it/s]\u001b[A\n",
      " 63%|██████▎   | 19/30 [00:05<00:02,  4.21it/s]\u001b[A\n",
      " 70%|███████   | 21/30 [00:05<00:02,  3.93it/s]\u001b[A\n",
      " 73%|███████▎  | 22/30 [00:06<00:03,  2.41it/s]\u001b[A\n",
      " 77%|███████▋  | 23/30 [00:06<00:02,  2.79it/s]\u001b[A\n",
      " 83%|████████▎ | 25/30 [00:06<00:01,  3.62it/s]\u001b[A\n",
      " 87%|████████▋ | 26/30 [00:06<00:00,  4.41it/s]\u001b[A\n",
      " 90%|█████████ | 27/30 [00:07<00:00,  5.22it/s]\u001b[A\n",
      " 93%|█████████▎| 28/30 [00:07<00:00,  3.98it/s]\u001b[A\n",
      " 97%|█████████▋| 29/30 [00:08<00:00,  2.68it/s]\u001b[A\n",
      "100%|██████████| 30/30 [00:08<00:00,  3.42it/s]\u001b[A\n"
     ]
    }
   ],
   "source": []
  },
  {
   "cell_type": "code",
   "execution_count": 5,
   "metadata": {},
   "outputs": [],
   "source": [
    "session = Session()\n",
    "raw_images = session.query(RawImage).all()"
   ]
  },
  {
   "cell_type": "code",
   "execution_count": 6,
   "metadata": {},
   "outputs": [
    {
     "data": {
      "text/plain": [
       "[<repalette.utils.models.raw_image.RawImage at 0x7ffa6397ab80>,\n",
       " <repalette.utils.models.raw_image.RawImage at 0x7ffa6397abe0>,\n",
       " <repalette.utils.models.raw_image.RawImage at 0x7ffa63986160>,\n",
       " <repalette.utils.models.raw_image.RawImage at 0x7ffa639861f0>,\n",
       " <repalette.utils.models.raw_image.RawImage at 0x7ffa63986280>,\n",
       " <repalette.utils.models.raw_image.RawImage at 0x7ffa63986310>,\n",
       " <repalette.utils.models.raw_image.RawImage at 0x7ffa639863a0>,\n",
       " <repalette.utils.models.raw_image.RawImage at 0x7ffa63986430>,\n",
       " <repalette.utils.models.raw_image.RawImage at 0x7ffa639864c0>,\n",
       " <repalette.utils.models.raw_image.RawImage at 0x7ffa63986550>,\n",
       " <repalette.utils.models.raw_image.RawImage at 0x7ffa63986610>,\n",
       " <repalette.utils.models.raw_image.RawImage at 0x7ffa639866d0>,\n",
       " <repalette.utils.models.raw_image.RawImage at 0x7ffa63986790>,\n",
       " <repalette.utils.models.raw_image.RawImage at 0x7ffa63986850>,\n",
       " <repalette.utils.models.raw_image.RawImage at 0x7ffa63986910>,\n",
       " <repalette.utils.models.raw_image.RawImage at 0x7ffa639869d0>,\n",
       " <repalette.utils.models.raw_image.RawImage at 0x7ffa63986a90>,\n",
       " <repalette.utils.models.raw_image.RawImage at 0x7ffa63986b50>,\n",
       " <repalette.utils.models.raw_image.RawImage at 0x7ffa63986c10>,\n",
       " <repalette.utils.models.raw_image.RawImage at 0x7ffa63986cd0>,\n",
       " <repalette.utils.models.raw_image.RawImage at 0x7ffa63986d90>,\n",
       " <repalette.utils.models.raw_image.RawImage at 0x7ffa63986e50>,\n",
       " <repalette.utils.models.raw_image.RawImage at 0x7ffa63986f10>,\n",
       " <repalette.utils.models.raw_image.RawImage at 0x7ffa63986fd0>]"
      ]
     },
     "execution_count": 6,
     "metadata": {},
     "output_type": "execute_result"
    }
   ],
   "source": [
    "raw_images"
   ]
  },
  {
   "cell_type": "code",
   "execution_count": null,
   "metadata": {},
   "outputs": [],
   "source": []
  }
 ],
 "metadata": {
  "kernelspec": {
   "display_name": "Python 3",
   "language": "python",
   "name": "python3"
  },
  "language_info": {
   "codemirror_mode": {
    "name": "ipython",
    "version": 3
   },
   "file_extension": ".py",
   "mimetype": "text/x-python",
   "name": "python",
   "nbconvert_exporter": "python",
   "pygments_lexer": "ipython3",
   "version": "3.8.3"
  }
 },
 "nbformat": 4,
 "nbformat_minor": 4
}
