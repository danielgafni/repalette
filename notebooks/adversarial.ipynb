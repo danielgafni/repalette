{
 "cells": [
  {
   "cell_type": "code",
   "execution_count": 1,
   "metadata": {},
   "outputs": [],
   "source": [
    "from repalette.lightning.datamodules import AdversarialDataModule, AdversarialRecolorDataModule\n",
    "from repalette.lightning.systems import PreTrainSystem, AdversarialSystem, AdversarialMSESystem\n",
    "\n",
    "from repalette.constants import S3_PRETRAINED_MODEL_CHECKPOINT_PATH, LIGHTNING_LOGS_DIR, MODEL_CHECKPOINTS_DIR"
   ]
  },
  {
   "cell_type": "code",
   "execution_count": 2,
   "metadata": {},
   "outputs": [],
   "source": [
    "generator = AdversarialMSESystem.load_from_checkpoint(\"gan.ckpt\").generator"
   ]
  },
  {
   "cell_type": "code",
   "execution_count": 3,
   "metadata": {},
   "outputs": [],
   "source": [
    "adversarial_datamodule = AdversarialRecolorDataModule(multiplier=16, size=1., batch_size=8, num_workers=14)"
   ]
  },
  {
   "cell_type": "code",
   "execution_count": 4,
   "metadata": {},
   "outputs": [],
   "source": [
    "import pytorch_lightning as pl\n",
    "from repalette.lightning.callbacks import LogAdversarialToTensorboard, LogAdversarialMSEToTensorboard\n",
    "from pytorch_lightning.loggers import TensorBoardLogger\n",
    "from pytorch_lightning.callbacks import ModelCheckpoint, EarlyStopping, GPUStatsMonitor\n",
    "import uuid\n",
    "import os\n",
    "\n",
    "log_recoloring_to_tensorboard = LogAdversarialMSEToTensorboard(batches=3)\n",
    "\n",
    "logger = TensorBoardLogger(\n",
    "    LIGHTNING_LOGS_DIR,\n",
    "    name=\"gan\",\n",
    "    log_graph=True,\n",
    "#     default_hp_metric=False,\n",
    "    )\n",
    "\n",
    "adv_checkpoints = ModelCheckpoint(\n",
    "        dirpath=os.path.join(MODEL_CHECKPOINTS_DIR, \"gan-from-gan\"),\n",
    "        verbose=True,\n",
    "        mode=\"min\",\n",
    "        save_top_k=-1,\n",
    "    )"
   ]
  },
  {
   "cell_type": "code",
   "execution_count": 5,
   "metadata": {},
   "outputs": [
    {
     "name": "stderr",
     "output_type": "stream",
     "text": [
      "GPU available: True, used: True\n",
      "TPU available: None, using: 0 TPU cores\n",
      "LOCAL_RANK: 0 - CUDA_VISIBLE_DEVICES: [0]\n"
     ]
    }
   ],
   "source": [
    "trainer = pl.Trainer(gpus=-1,\n",
    "     logger=logger,\n",
    "     benchmark=True,\n",
    "    enable_pl_optimizer=True,\n",
    "     callbacks=[\n",
    "         log_recoloring_to_tensorboard,\n",
    "     ],\n",
    "    checkpoint_callback=adv_checkpoints\n",
    "    )"
   ]
  },
  {
   "cell_type": "code",
   "execution_count": 6,
   "metadata": {},
   "outputs": [],
   "source": [
    "import torch\n",
    "import pytorch_lightning as pl\n",
    "from pytorch_lightning.metrics.regression import MeanSquaredError\n",
    "from torch import nn as nn\n",
    "\n",
    "from repalette.constants import (\n",
    "    DEFAULT_DISCRIMINATOR_LR,\n",
    "    DEFAULT_GENERATOR_LR,\n",
    "    DEFAULT_ADVERSARIAL_BETA_1,\n",
    "    DEFAULT_ADVERSARIAL_BETA_2,\n",
    "    DEFAULT_GENERATOR_WEIGHT_DECAY,\n",
    "    DEFAULT_ADVERSARIAL_LAMBDA_MSE_LOSS,\n",
    ")\n",
    "from repalette.models import PaletteNet, Discriminator"
   ]
  },
  {
   "cell_type": "code",
   "execution_count": 7,
   "metadata": {},
   "outputs": [],
   "source": [
    "adversarial_system = AdversarialMSESystem(\n",
    "    generator_learning_rate=DEFAULT_GENERATOR_LR / 2, generator=generator, k=5, discriminator_learning_rate=DEFAULT_DISCRIMINATOR_LR / 2, discriminator_weight_decay=0.01, generator_weight_decay=0.003, p=0.15\n",
    ")"
   ]
  },
  {
   "cell_type": "code",
   "execution_count": null,
   "metadata": {},
   "outputs": [
    {
     "name": "stderr",
     "output_type": "stream",
     "text": [
      "/home/dan/.cache/pypoetry/virtualenvs/repalette-BPGUEOIx-py3.8/lib/python3.8/site-packages/pytorch_lightning/utilities/distributed.py:49: UserWarning: Could not log computational graph since the `model.example_input_array` attribute is not set or `input_array` was not given\n",
      "  warnings.warn(*args, **kwargs)\n",
      "\n",
      "  | Name          | Type          | Params\n",
      "------------------------------------------------\n",
      "0 | generator     | PaletteNet    | 13.9 M\n",
      "1 | discriminator | Discriminator | 2.8 M \n",
      "2 | MSE           | MSELoss       | 0     \n",
      "------------------------------------------------\n",
      "16.7 M    Trainable params\n",
      "0         Non-trainable params\n",
      "16.7 M    Total params\n"
     ]
    },
    {
     "data": {
      "application/vnd.jupyter.widget-view+json": {
       "model_id": "",
       "version_major": 2,
       "version_minor": 0
      },
      "text/plain": [
       "Validation sanity check: |          | 0/? [00:00<?, ?it/s]"
      ]
     },
     "metadata": {},
     "output_type": "display_data"
    },
    {
     "data": {
      "application/vnd.jupyter.widget-view+json": {
       "model_id": "70e5ce0244a2405886977f8c7dbcecea",
       "version_major": 2,
       "version_minor": 0
      },
      "text/plain": [
       "Training: |          | 0/? [00:00<?, ?it/s]"
      ]
     },
     "metadata": {},
     "output_type": "display_data"
    },
    {
     "data": {
      "application/vnd.jupyter.widget-view+json": {
       "model_id": "",
       "version_major": 2,
       "version_minor": 0
      },
      "text/plain": [
       "Validating: |          | 0/? [00:00<?, ?it/s]"
      ]
     },
     "metadata": {},
     "output_type": "display_data"
    },
    {
     "name": "stderr",
     "output_type": "stream",
     "text": [
      "Epoch 0, step 74189: None was not in top -1\n"
     ]
    },
    {
     "data": {
      "application/vnd.jupyter.widget-view+json": {
       "model_id": "",
       "version_major": 2,
       "version_minor": 0
      },
      "text/plain": [
       "Validating: |          | 0/? [00:00<?, ?it/s]"
      ]
     },
     "metadata": {},
     "output_type": "display_data"
    },
    {
     "name": "stderr",
     "output_type": "stream",
     "text": [
      "Epoch 1, step 148379: None was not in top -1\n"
     ]
    }
   ],
   "source": [
    "trainer.fit(adversarial_system, adversarial_datamodule)"
   ]
  },
  {
   "cell_type": "code",
   "execution_count": 11,
   "metadata": {},
   "outputs": [
    {
     "name": "stdout",
     "output_type": "stream",
     "text": [
      "test\n"
     ]
    }
   ],
   "source": [
    "print(\"test\")"
   ]
  },
  {
   "cell_type": "code",
   "execution_count": null,
   "metadata": {},
   "outputs": [],
   "source": []
  },
  {
   "cell_type": "code",
   "execution_count": null,
   "metadata": {},
   "outputs": [],
   "source": []
  }
 ],
 "metadata": {
  "kernelspec": {
   "display_name": "Python 3",
   "language": "python",
   "name": "python3"
  },
  "language_info": {
   "codemirror_mode": {
    "name": "ipython",
    "version": 3
   },
   "file_extension": ".py",
   "mimetype": "text/x-python",
   "name": "python",
   "nbconvert_exporter": "python",
   "pygments_lexer": "ipython3",
   "version": "3.8.5"
  }
 },
 "nbformat": 4,
 "nbformat_minor": 4
}
