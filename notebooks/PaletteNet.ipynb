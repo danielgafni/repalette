{
 "cells": [
  {
   "cell_type": "code",
   "execution_count": 1,
   "metadata": {},
   "outputs": [],
   "source": [
    "import pandas as pd\n",
    "\n",
    "data = pd.read_csv(\"../data/design-seeds.csv\")"
   ]
  },
  {
   "cell_type": "code",
   "execution_count": 2,
   "metadata": {},
   "outputs": [],
   "source": [
    "multiplier = 24"
   ]
  },
  {
   "cell_type": "code",
   "execution_count": 3,
   "metadata": {},
   "outputs": [],
   "source": [
    "from repalette.utils.data import PairRecolorDataset"
   ]
  },
  {
   "cell_type": "code",
   "execution_count": 4,
   "metadata": {},
   "outputs": [],
   "source": [
    "from sklearn.model_selection import train_test_split\n",
    "\n",
    "train, test = train_test_split(data, test_size=0.2)\n",
    "val, test = train_test_split(test, test_size=0.5)"
   ]
  },
  {
   "cell_type": "code",
   "execution_count": 5,
   "metadata": {},
   "outputs": [],
   "source": [
    "from repalette.utils.data import ShuffleDataLoader\n",
    "\n",
    "train_dataset = PairRecolorDataset(train, multiplier)\n",
    "train_dataloader = ShuffleDataLoader(train_dataset, shuffle=False, num_workers=8, batch_size=8)"
   ]
  },
  {
   "cell_type": "code",
   "execution_count": 6,
   "metadata": {},
   "outputs": [
    {
     "data": {
      "text/plain": [
       "4416"
      ]
     },
     "execution_count": 6,
     "metadata": {},
     "output_type": "execute_result"
    }
   ],
   "source": [
    "len(train_dataset)"
   ]
  },
  {
   "cell_type": "code",
   "execution_count": 7,
   "metadata": {},
   "outputs": [],
   "source": [
    "val_dataset = PairRecolorDataset(val, multiplier)\n",
    "val_dataloader = ShuffleDataLoader(val_dataset, shuffle=False, num_workers=8, batch_size=8)"
   ]
  },
  {
   "cell_type": "code",
   "execution_count": 8,
   "metadata": {},
   "outputs": [
    {
     "data": {
      "text/plain": [
       "552"
      ]
     },
     "execution_count": 8,
     "metadata": {},
     "output_type": "execute_result"
    }
   ],
   "source": [
    "len(val_dataset)"
   ]
  },
  {
   "cell_type": "code",
   "execution_count": 9,
   "metadata": {},
   "outputs": [],
   "source": [
    "test_dataset = PairRecolorDataset(test, multiplier)\n",
    "test_dataloader = ShuffleDataLoader(test_dataset, shuffle=False, num_workers=8, batch_size=8)"
   ]
  },
  {
   "cell_type": "code",
   "execution_count": 10,
   "metadata": {},
   "outputs": [],
   "source": [
    "from repalette.models import PaletteNet"
   ]
  },
  {
   "cell_type": "code",
   "execution_count": 11,
   "metadata": {},
   "outputs": [],
   "source": [
    "import torch\n",
    "import torch.nn as nn\n",
    "import pytorch_lightning as pl"
   ]
  },
  {
   "cell_type": "code",
   "execution_count": 12,
   "metadata": {},
   "outputs": [],
   "source": [
    "from repalette.models import PaletteNet"
   ]
  },
  {
   "cell_type": "code",
   "execution_count": 13,
   "metadata": {},
   "outputs": [
    {
     "name": "stderr",
     "output_type": "stream",
     "text": [
      "GPU available: True, used: True\n",
      "TPU available: False, using: 0 TPU cores\n",
      "LOCAL_RANK: 0 - CUDA_VISIBLE_DEVICES: [0]\n"
     ]
    }
   ],
   "source": [
    "from pytorch_lightning import Trainer\n",
    "from pytorch_lightning.callbacks import ModelCheckpoint, EarlyStopping\n",
    "from pytorch_lightning.loggers import TensorBoardLogger\n",
    "\n",
    "from repalette.constants import DEFAULT_LR, DEFAULT_BETAS, PL_LOGS_DIR, MODELS_DIR\n",
    "\n",
    "checkpoint_callback = ModelCheckpoint(\n",
    "    filepath=MODELS_DIR,\n",
    "    monitor=\"Val/Loss\",\n",
    "    verbose=True,\n",
    "    mode='min',\n",
    "    save_top_k=2\n",
    ")\n",
    "\n",
    "early_stop_callback = EarlyStopping(\n",
    "   monitor=\"Val/Loss\",\n",
    "   min_delta=0.00,\n",
    "   patience=20,\n",
    "   verbose=False,\n",
    "   mode='min'\n",
    ")\n",
    "\n",
    "hparams={\n",
    "    'lr': DEFAULT_LR, 'betas': DEFAULT_BETAS,\n",
    "}\n",
    "model = PaletteNet(\n",
    "    train_dataloader, val_dataloader, test_dataloader,\n",
    "    hparams=hparams,\n",
    ")\n",
    "logger = TensorBoardLogger(PL_LOGS_DIR, name='PaletteNet')\n",
    "trainer = Trainer(\n",
    "    gpus=1, # use gpu!\n",
    "    logger=logger,\n",
    "    callbacks=[early_stop_callback],\n",
    "    checkpoint_callback=checkpoint_callback,\n",
    "#     auto_lr_find=\"learning_rate\"\n",
    ")\n",
    "\n",
    "# trainer.tune(model)"
   ]
  },
  {
   "cell_type": "code",
   "execution_count": 14,
   "metadata": {},
   "outputs": [],
   "source": [
    "# train_iter = iter(model.train_dataloader())"
   ]
  },
  {
   "cell_type": "code",
   "execution_count": 15,
   "metadata": {},
   "outputs": [],
   "source": [
    "# batch = next(train_iter)"
   ]
  },
  {
   "cell_type": "code",
   "execution_count": null,
   "metadata": {},
   "outputs": [
    {
     "name": "stderr",
     "output_type": "stream",
     "text": [
      "\n",
      "  | Name               | Type              | Params\n",
      "---------------------------------------------------------\n",
      "0 | feature_extractor  | FeatureExtractor  | 11 M  \n",
      "1 | recoloring_decoder | RecoloringDecoder | 2 M   \n",
      "2 | loss_fn            | MSELoss           | 0     \n"
     ]
    },
    {
     "data": {
      "application/vnd.jupyter.widget-view+json": {
       "model_id": "",
       "version_major": 2,
       "version_minor": 0
      },
      "text/plain": [
       "HBox(children=(FloatProgress(value=1.0, bar_style='info', description='Validation sanity check', layout=Layout…"
      ]
     },
     "metadata": {},
     "output_type": "display_data"
    },
    {
     "data": {
      "application/vnd.jupyter.widget-view+json": {
       "model_id": "3573254250d8454c993ad970cb0243f1",
       "version_major": 2,
       "version_minor": 0
      },
      "text/plain": [
       "HBox(children=(FloatProgress(value=1.0, bar_style='info', description='Training', layout=Layout(flex='2'), max…"
      ]
     },
     "metadata": {},
     "output_type": "display_data"
    }
   ],
   "source": [
    "trainer.fit(model)"
   ]
  },
  {
   "cell_type": "code",
   "execution_count": 19,
   "metadata": {},
   "outputs": [],
   "source": [
    "from skimage.color import lab2rgb\n",
    "from torchvision.utils import make_grid"
   ]
  },
  {
   "cell_type": "code",
   "execution_count": 16,
   "metadata": {},
   "outputs": [],
   "source": []
  },
  {
   "cell_type": "code",
   "execution_count": 22,
   "metadata": {},
   "outputs": [],
   "source": [
    "(original_img, _), (target_img, target_palette) = next(\n",
    "    iter(val_dataloader)\n",
    ")\n",
    "\n",
    "original_img = original_img#.to(self.device)\n",
    "target_img = target_img#.to(self.device)\n",
    "target_palette = target_palette#.to(self.device)\n",
    "model.eval()\n",
    "model.to(\"cpu\")\n",
    "\n",
    "def lab_batch_to_rgb_image_grid(lab_batch):\n",
    "    grid = make_grid(torch.stack([torch.from_numpy(lab2rgb(\n",
    "        lab_image.permute(1, 2, 0).cpu())\n",
    "    ).permute(2, 0, 1) for lab_image in lab_batch]), pad_value=1)\n",
    "    return grid\n",
    "    \n",
    "\n",
    "with torch.no_grad():\n",
    "    target_palette = nn.Flatten()(target_palette)\n",
    "    recolored_img = model(original_img, target_palette)"
   ]
  },
  {
   "cell_type": "code",
   "execution_count": null,
   "metadata": {},
   "outputs": [],
   "source": []
  },
  {
   "cell_type": "code",
   "execution_count": 103,
   "metadata": {},
   "outputs": [],
   "source": [
    "original_grid = lab_batch_to_rgb_image_grid(original_img)"
   ]
  },
  {
   "cell_type": "code",
   "execution_count": 104,
   "metadata": {},
   "outputs": [],
   "source": [
    "model.logger.experiment.add_image(\"original\", original_grid, model.current_epoch)"
   ]
  },
  {
   "cell_type": "code",
   "execution_count": 105,
   "metadata": {},
   "outputs": [],
   "source": [
    "target_grid = lab_batch_to_rgb_image_grid(target_img)"
   ]
  },
  {
   "cell_type": "code",
   "execution_count": 106,
   "metadata": {},
   "outputs": [],
   "source": [
    "model.logger.experiment.add_image(\"target\", target_grid, model.current_epoch)"
   ]
  },
  {
   "cell_type": "code",
   "execution_count": 23,
   "metadata": {},
   "outputs": [],
   "source": [
    "target_palette_img = target_palette.view(-1, 3, 6, 1)\n",
    "target_palette_grid = lab_batch_to_rgb_image_grid(target_palette_img)\n",
    "model.logger.experiment.add_image(\"target_palette\", target_palette_grid, model.current_epoch)"
   ]
  },
  {
   "cell_type": "code",
   "execution_count": 117,
   "metadata": {},
   "outputs": [],
   "source": [
    "pad_value"
   ]
  },
  {
   "cell_type": "code",
   "execution_count": 24,
   "metadata": {},
   "outputs": [
    {
     "data": {
      "text/plain": [
       "tensor([[[1.0000, 1.0000, 1.0000, 1.0000, 1.0000, 1.0000, 1.0000, 1.0000,\n",
       "          1.0000, 1.0000, 1.0000, 1.0000, 1.0000, 1.0000, 1.0000, 1.0000,\n",
       "          1.0000, 1.0000, 1.0000, 1.0000, 1.0000, 1.0000, 1.0000, 1.0000,\n",
       "          1.0000, 1.0000],\n",
       "         [1.0000, 1.0000, 1.0000, 1.0000, 1.0000, 1.0000, 1.0000, 1.0000,\n",
       "          1.0000, 1.0000, 1.0000, 1.0000, 1.0000, 1.0000, 1.0000, 1.0000,\n",
       "          1.0000, 1.0000, 1.0000, 1.0000, 1.0000, 1.0000, 1.0000, 1.0000,\n",
       "          1.0000, 1.0000],\n",
       "         [1.0000, 1.0000, 0.8877, 1.0000, 1.0000, 0.9245, 1.0000, 1.0000,\n",
       "          0.9576, 1.0000, 1.0000, 0.9749, 1.0000, 1.0000, 0.9787, 1.0000,\n",
       "          1.0000, 0.9830, 1.0000, 1.0000, 0.9868, 1.0000, 1.0000, 0.9621,\n",
       "          1.0000, 1.0000],\n",
       "         [1.0000, 1.0000, 0.1773, 1.0000, 1.0000, 0.1619, 1.0000, 1.0000,\n",
       "          0.1459, 1.0000, 1.0000, 0.1355, 1.0000, 1.0000, 0.1345, 1.0000,\n",
       "          1.0000, 0.1329, 1.0000, 1.0000, 0.1309, 1.0000, 1.0000, 0.1422,\n",
       "          1.0000, 1.0000],\n",
       "         [1.0000, 1.0000, 0.1489, 1.0000, 1.0000, 0.1456, 1.0000, 1.0000,\n",
       "          0.1396, 1.0000, 1.0000, 0.1291, 1.0000, 1.0000, 0.1883, 1.0000,\n",
       "          1.0000, 0.2455, 1.0000, 1.0000, 0.2963, 1.0000, 1.0000, 0.3458,\n",
       "          1.0000, 1.0000],\n",
       "         [1.0000, 1.0000, 0.5282, 1.0000, 1.0000, 0.5252, 1.0000, 1.0000,\n",
       "          0.5214, 1.0000, 1.0000, 0.5368, 1.0000, 1.0000, 0.5740, 1.0000,\n",
       "          1.0000, 0.6107, 1.0000, 1.0000, 0.6471, 1.0000, 1.0000, 0.6833,\n",
       "          1.0000, 1.0000],\n",
       "         [1.0000, 1.0000, 0.8561, 1.0000, 1.0000, 0.8848, 1.0000, 1.0000,\n",
       "          0.9159, 1.0000, 1.0000, 0.9465, 1.0000, 1.0000, 0.9766, 1.0000,\n",
       "          1.0000, 0.9987, 1.0000, 1.0000, 1.0000, 1.0000, 1.0000, 1.0000,\n",
       "          1.0000, 1.0000],\n",
       "         [1.0000, 1.0000, 0.9305, 1.0000, 1.0000, 0.9585, 1.0000, 1.0000,\n",
       "          0.9861, 1.0000, 1.0000, 1.0000, 1.0000, 1.0000, 1.0000, 1.0000,\n",
       "          1.0000, 1.0000, 1.0000, 1.0000, 1.0000, 1.0000, 1.0000, 1.0000,\n",
       "          1.0000, 1.0000],\n",
       "         [1.0000, 1.0000, 1.0000, 1.0000, 1.0000, 1.0000, 1.0000, 1.0000,\n",
       "          1.0000, 1.0000, 1.0000, 1.0000, 1.0000, 1.0000, 1.0000, 1.0000,\n",
       "          1.0000, 1.0000, 1.0000, 1.0000, 1.0000, 1.0000, 1.0000, 1.0000,\n",
       "          1.0000, 1.0000],\n",
       "         [1.0000, 1.0000, 1.0000, 1.0000, 1.0000, 1.0000, 1.0000, 1.0000,\n",
       "          1.0000, 1.0000, 1.0000, 1.0000, 1.0000, 1.0000, 1.0000, 1.0000,\n",
       "          1.0000, 1.0000, 1.0000, 1.0000, 1.0000, 1.0000, 1.0000, 1.0000,\n",
       "          1.0000, 1.0000]],\n",
       "\n",
       "        [[1.0000, 1.0000, 1.0000, 1.0000, 1.0000, 1.0000, 1.0000, 1.0000,\n",
       "          1.0000, 1.0000, 1.0000, 1.0000, 1.0000, 1.0000, 1.0000, 1.0000,\n",
       "          1.0000, 1.0000, 1.0000, 1.0000, 1.0000, 1.0000, 1.0000, 1.0000,\n",
       "          1.0000, 1.0000],\n",
       "         [1.0000, 1.0000, 1.0000, 1.0000, 1.0000, 1.0000, 1.0000, 1.0000,\n",
       "          1.0000, 1.0000, 1.0000, 1.0000, 1.0000, 1.0000, 1.0000, 1.0000,\n",
       "          1.0000, 1.0000, 1.0000, 1.0000, 1.0000, 1.0000, 1.0000, 1.0000,\n",
       "          1.0000, 1.0000],\n",
       "         [1.0000, 1.0000, 0.8182, 1.0000, 1.0000, 0.8072, 1.0000, 1.0000,\n",
       "          0.7965, 1.0000, 1.0000, 0.7939, 1.0000, 1.0000, 0.7974, 1.0000,\n",
       "          1.0000, 0.8013, 1.0000, 1.0000, 0.8046, 1.0000, 1.0000, 0.8170,\n",
       "          1.0000, 1.0000],\n",
       "         [1.0000, 1.0000, 0.2080, 1.0000, 1.0000, 0.2114, 1.0000, 1.0000,\n",
       "          0.2146, 1.0000, 1.0000, 0.2157, 1.0000, 1.0000, 0.2147, 1.0000,\n",
       "          1.0000, 0.2132, 1.0000, 1.0000, 0.2116, 1.0000, 1.0000, 0.2079,\n",
       "          1.0000, 1.0000],\n",
       "         [1.0000, 1.0000, 0.4075, 1.0000, 1.0000, 0.4044, 1.0000, 1.0000,\n",
       "          0.4008, 1.0000, 1.0000, 0.3964, 1.0000, 1.0000, 0.3844, 1.0000,\n",
       "          1.0000, 0.3682, 1.0000, 1.0000, 0.3490, 1.0000, 1.0000, 0.3277,\n",
       "          1.0000, 1.0000],\n",
       "         [1.0000, 1.0000, 0.7132, 1.0000, 1.0000, 0.7103, 1.0000, 1.0000,\n",
       "          0.7067, 1.0000, 1.0000, 0.6996, 1.0000, 1.0000, 0.6871, 1.0000,\n",
       "          1.0000, 0.6734, 1.0000, 1.0000, 0.6584, 1.0000, 1.0000, 0.6473,\n",
       "          1.0000, 1.0000],\n",
       "         [1.0000, 1.0000, 0.8875, 1.0000, 1.0000, 0.8765, 1.0000, 1.0000,\n",
       "          0.8679, 1.0000, 1.0000, 0.8591, 1.0000, 1.0000, 0.8498, 1.0000,\n",
       "          1.0000, 0.8444, 1.0000, 1.0000, 0.8476, 1.0000, 1.0000, 0.8505,\n",
       "          1.0000, 1.0000],\n",
       "         [1.0000, 1.0000, 0.9181, 1.0000, 1.0000, 0.9104, 1.0000, 1.0000,\n",
       "          0.9024, 1.0000, 1.0000, 0.8950, 1.0000, 1.0000, 0.8928, 1.0000,\n",
       "          1.0000, 0.8959, 1.0000, 1.0000, 0.8982, 1.0000, 1.0000, 0.9007,\n",
       "          1.0000, 1.0000],\n",
       "         [1.0000, 1.0000, 1.0000, 1.0000, 1.0000, 1.0000, 1.0000, 1.0000,\n",
       "          1.0000, 1.0000, 1.0000, 1.0000, 1.0000, 1.0000, 1.0000, 1.0000,\n",
       "          1.0000, 1.0000, 1.0000, 1.0000, 1.0000, 1.0000, 1.0000, 1.0000,\n",
       "          1.0000, 1.0000],\n",
       "         [1.0000, 1.0000, 1.0000, 1.0000, 1.0000, 1.0000, 1.0000, 1.0000,\n",
       "          1.0000, 1.0000, 1.0000, 1.0000, 1.0000, 1.0000, 1.0000, 1.0000,\n",
       "          1.0000, 1.0000, 1.0000, 1.0000, 1.0000, 1.0000, 1.0000, 1.0000,\n",
       "          1.0000, 1.0000]],\n",
       "\n",
       "        [[1.0000, 1.0000, 1.0000, 1.0000, 1.0000, 1.0000, 1.0000, 1.0000,\n",
       "          1.0000, 1.0000, 1.0000, 1.0000, 1.0000, 1.0000, 1.0000, 1.0000,\n",
       "          1.0000, 1.0000, 1.0000, 1.0000, 1.0000, 1.0000, 1.0000, 1.0000,\n",
       "          1.0000, 1.0000],\n",
       "         [1.0000, 1.0000, 1.0000, 1.0000, 1.0000, 1.0000, 1.0000, 1.0000,\n",
       "          1.0000, 1.0000, 1.0000, 1.0000, 1.0000, 1.0000, 1.0000, 1.0000,\n",
       "          1.0000, 1.0000, 1.0000, 1.0000, 1.0000, 1.0000, 1.0000, 1.0000,\n",
       "          1.0000, 1.0000],\n",
       "         [1.0000, 1.0000, 1.0000, 1.0000, 1.0000, 0.9885, 1.0000, 1.0000,\n",
       "          0.9772, 1.0000, 1.0000, 0.9462, 1.0000, 1.0000, 0.9056, 1.0000,\n",
       "          1.0000, 0.8572, 1.0000, 1.0000, 0.8122, 1.0000, 1.0000, 0.7808,\n",
       "          1.0000, 1.0000],\n",
       "         [1.0000, 1.0000, 0.1290, 1.0000, 1.0000, 0.1324, 1.0000, 1.0000,\n",
       "          0.1355, 1.0000, 1.0000, 0.1480, 1.0000, 1.0000, 0.1659, 1.0000,\n",
       "          1.0000, 0.1871, 1.0000, 1.0000, 0.2081, 1.0000, 1.0000, 0.2231,\n",
       "          1.0000, 1.0000],\n",
       "         [1.0000, 1.0000, 0.2172, 1.0000, 1.0000, 0.2787, 1.0000, 1.0000,\n",
       "          0.3350, 1.0000, 1.0000, 0.3938, 1.0000, 1.0000, 0.4454, 1.0000,\n",
       "          1.0000, 0.5002, 1.0000, 1.0000, 0.5517, 1.0000, 1.0000, 0.5903,\n",
       "          1.0000, 1.0000],\n",
       "         [1.0000, 1.0000, 0.5947, 1.0000, 1.0000, 0.6377, 1.0000, 1.0000,\n",
       "          0.6840, 1.0000, 1.0000, 0.7228, 1.0000, 1.0000, 0.7609, 1.0000,\n",
       "          1.0000, 0.7989, 1.0000, 1.0000, 0.8366, 1.0000, 1.0000, 0.8374,\n",
       "          1.0000, 1.0000],\n",
       "         [1.0000, 1.0000, 1.0000, 1.0000, 1.0000, 1.0000, 1.0000, 1.0000,\n",
       "          1.0000, 1.0000, 1.0000, 1.0000, 1.0000, 1.0000, 1.0000, 1.0000,\n",
       "          1.0000, 0.9828, 1.0000, 1.0000, 0.9464, 1.0000, 1.0000, 0.9099,\n",
       "          1.0000, 1.0000],\n",
       "         [1.0000, 1.0000, 1.0000, 1.0000, 1.0000, 1.0000, 1.0000, 1.0000,\n",
       "          1.0000, 1.0000, 1.0000, 1.0000, 1.0000, 1.0000, 1.0000, 1.0000,\n",
       "          1.0000, 0.9674, 1.0000, 1.0000, 0.9379, 1.0000, 1.0000, 0.9046,\n",
       "          1.0000, 1.0000],\n",
       "         [1.0000, 1.0000, 1.0000, 1.0000, 1.0000, 1.0000, 1.0000, 1.0000,\n",
       "          1.0000, 1.0000, 1.0000, 1.0000, 1.0000, 1.0000, 1.0000, 1.0000,\n",
       "          1.0000, 1.0000, 1.0000, 1.0000, 1.0000, 1.0000, 1.0000, 1.0000,\n",
       "          1.0000, 1.0000],\n",
       "         [1.0000, 1.0000, 1.0000, 1.0000, 1.0000, 1.0000, 1.0000, 1.0000,\n",
       "          1.0000, 1.0000, 1.0000, 1.0000, 1.0000, 1.0000, 1.0000, 1.0000,\n",
       "          1.0000, 1.0000, 1.0000, 1.0000, 1.0000, 1.0000, 1.0000, 1.0000,\n",
       "          1.0000, 1.0000]]], dtype=torch.float64)"
      ]
     },
     "execution_count": 24,
     "metadata": {},
     "output_type": "execute_result"
    }
   ],
   "source": [
    "target_palette_grid"
   ]
  },
  {
   "cell_type": "code",
   "execution_count": 111,
   "metadata": {},
   "outputs": [],
   "source": [
    "recolored_with_lum = torch.cat((original_img[:, 0:1, :, :], recolored_img), axis=1)"
   ]
  },
  {
   "cell_type": "code",
   "execution_count": 112,
   "metadata": {},
   "outputs": [],
   "source": [
    "recolored_grid = lab_batch_to_rgb_image_grid(recolored_with_lum)"
   ]
  },
  {
   "cell_type": "code",
   "execution_count": 113,
   "metadata": {},
   "outputs": [],
   "source": [
    "model.logger.experiment.add_image(\"recolored\", recolored_grid, model.current_epoch)"
   ]
  },
  {
   "cell_type": "code",
   "execution_count": 79,
   "metadata": {},
   "outputs": [
    {
     "data": {
      "text/plain": [
       "torch.Size([432, 288])"
      ]
     },
     "execution_count": 79,
     "metadata": {},
     "output_type": "execute_result"
    }
   ],
   "source": [
    "with torch.no_grad():\n",
    "    target_palette = nn.Flatten()(target_palette)\n",
    "    recolored_img = model(original_img, target_palette)\n",
    "    recolored = [torch.from_numpy(lab2rgb(\n",
    "        torch.cat(\n",
    "            (\n",
    "                original_img_[0, :, :].unsqueeze(0),\n",
    "                recolored_img_,\n",
    "            ),\n",
    "            axis=0,\n",
    "        ).permute(1, 2, 0).cpu()\n",
    "    ) for original_img_, recolored_img_ in zip(original_img, recolored_img))]\n",
    "\n",
    "original_grid = make_grid(original_img)\n",
    "target_grid = make_grid(target_img)\n",
    "recolored_grid = make_grid(recolored)"
   ]
  },
  {
   "cell_type": "code",
   "execution_count": null,
   "metadata": {},
   "outputs": [],
   "source": []
  },
  {
   "cell_type": "code",
   "execution_count": 96,
   "metadata": {},
   "outputs": [
    {
     "data": {
      "text/plain": [
       "tensor([[[[ 0.4306,  1.3108,  0.8856,  ...,  1.6597,  0.5155, -0.0754],\n",
       "          [ 0.3227,  1.0049,  0.5212,  ...,  1.1652,  0.1366, -0.5990],\n",
       "          [-0.2797,  0.2197, -0.0592,  ...,  1.1876,  0.4007, -0.5782],\n",
       "          ...,\n",
       "          [-0.3868,  0.4632,  0.7211,  ...,  1.3233,  0.5609, -0.0682],\n",
       "          [ 1.0449,  2.3526,  2.4854,  ...,  2.2538,  1.8026,  0.9876],\n",
       "          [ 1.0683,  2.3379,  2.2803,  ...,  1.8070,  1.3086,  0.9760]],\n",
       "\n",
       "         [[ 0.6974,  0.9982,  1.1844,  ...,  0.3353,  0.5361,  0.4916],\n",
       "          [ 0.6713,  1.0601,  1.1453,  ...,  0.4740,  0.6447,  0.8008],\n",
       "          [ 0.4956,  0.6756,  0.7979,  ...,  0.3243,  0.4295,  0.7632],\n",
       "          ...,\n",
       "          [ 0.2500,  0.3411,  0.7670,  ...,  0.3854,  0.6659,  0.7979],\n",
       "          [ 0.4134,  0.6028,  1.0891,  ...,  0.1348,  0.4815,  0.5672],\n",
       "          [ 0.4168,  0.5767,  0.9490,  ..., -0.0307,  0.1862,  0.3163]]]])"
      ]
     },
     "execution_count": 96,
     "metadata": {},
     "output_type": "execute_result"
    }
   ],
   "source": [
    "recolored_img"
   ]
  },
  {
   "cell_type": "code",
   "execution_count": 14,
   "metadata": {},
   "outputs": [],
   "source": []
  },
  {
   "cell_type": "code",
   "execution_count": 16,
   "metadata": {},
   "outputs": [
    {
     "ename": "TypeError",
     "evalue": "expected Tensor as element 0 in argument 0, but got numpy.ndarray",
     "output_type": "error",
     "traceback": [
      "\u001b[0;31m---------------------------------------------------------------------------\u001b[0m",
      "\u001b[0;31mTypeError\u001b[0m                                 Traceback (most recent call last)",
      "\u001b[0;32m<ipython-input-16-f6b68cd5a4bb>\u001b[0m in \u001b[0;36m<module>\u001b[0;34m\u001b[0m\n\u001b[0;32m----> 1\u001b[0;31m \u001b[0mtorch\u001b[0m\u001b[0;34m.\u001b[0m\u001b[0mcat\u001b[0m\u001b[0;34m(\u001b[0m\u001b[0;34m(\u001b[0m\u001b[0mnp\u001b[0m\u001b[0;34m.\u001b[0m\u001b[0mzeros\u001b[0m\u001b[0;34m(\u001b[0m\u001b[0;36m2\u001b[0m\u001b[0;34m)\u001b[0m\u001b[0;34m,\u001b[0m \u001b[0mnp\u001b[0m\u001b[0;34m.\u001b[0m\u001b[0mzeros\u001b[0m\u001b[0;34m(\u001b[0m\u001b[0;36m3\u001b[0m\u001b[0;34m)\u001b[0m\u001b[0;34m)\u001b[0m\u001b[0;34m)\u001b[0m\u001b[0;34m.\u001b[0m\u001b[0mshape\u001b[0m\u001b[0;34m\u001b[0m\u001b[0;34m\u001b[0m\u001b[0m\n\u001b[0m",
      "\u001b[0;31mTypeError\u001b[0m: expected Tensor as element 0 in argument 0, but got numpy.ndarray"
     ]
    }
   ],
   "source": [
    "torch.cat((np.zeros(2), np.zeros(3))).shape"
   ]
  },
  {
   "cell_type": "code",
   "execution_count": null,
   "metadata": {},
   "outputs": [],
   "source": []
  }
 ],
 "metadata": {
  "kernelspec": {
   "display_name": "Python 3",
   "language": "python",
   "name": "python3"
  },
  "language_info": {
   "codemirror_mode": {
    "name": "ipython",
    "version": 3
   },
   "file_extension": ".py",
   "mimetype": "text/x-python",
   "name": "python",
   "nbconvert_exporter": "python",
   "pygments_lexer": "ipython3",
   "version": "3.8.5"
  }
 },
 "nbformat": 4,
 "nbformat_minor": 4
}
