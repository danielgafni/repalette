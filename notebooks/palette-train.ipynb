{
 "cells": [
  {
   "cell_type": "code",
   "execution_count": 1,
   "metadata": {},
   "outputs": [],
   "source": [
    "# from repalette.models.palette_net import PaletteNet\n",
    "# from repalette.models.gan import GAN\n",
    "# from repalette.lightning import AdversarialTrainer, PreTrainer\n",
    "from repalette.datasets import TripletRecolorDataset, PairRecolorDataset\n",
    "from repalette.datasets.utils import ShuffleDataLoader\n",
    "from repalette.models.palette_net import PaletteNet\n",
    "import pytorch_lightning as pl\n",
    "from torch.utils.data import DataLoader, Dataset\n",
    "import torch\n",
    "import torch.nn as nn"
   ]
  },
  {
   "cell_type": "code",
   "execution_count": 2,
   "metadata": {},
   "outputs": [
    {
     "name": "stdout",
     "output_type": "stream",
     "text": [
      "Mode: resnet\n",
      "torch.Size([2, 2, 64, 48])\n",
      "Number of parameters: 13882388\n",
      "------------------------------\n",
      "Mode: dense\n",
      "torch.Size([2, 2, 64, 48])\n",
      "Number of parameters: 4342228\n",
      "------------------------------\n",
      "Mode: dense-b\n",
      "torch.Size([2, 2, 64, 48])\n",
      "Number of parameters: 3974868\n",
      "------------------------------\n",
      "Mode: dense-bc\n",
      "torch.Size([2, 2, 64, 48])\n",
      "Number of parameters: 7606356\n",
      "------------------------------\n"
     ]
    }
   ],
   "source": [
    "dummy_img = torch.ones(2, 3, 64, 48)\n",
    "dummy_palette = torch.ones(2, 18)\n",
    "\n",
    "modes = ['resnet', 'dense', 'dense-b', 'dense-bc']\n",
    "\n",
    "for mode in modes:\n",
    "    model = PaletteNet(mode)\n",
    "    res = model(dummy_img, dummy_palette)\n",
    "    n_params = sum(p.numel() for p in model.parameters() if p.requires_grad)\n",
    "    print('Mode:', mode)\n",
    "    print(res.shape)\n",
    "    print(f'Number of parameters: {n_params}')\n",
    "    print('-' * 30)"
   ]
  }
 ],
 "metadata": {
  "kernelspec": {
   "display_name": "Python 3",
   "language": "python",
   "name": "python3"
  },
  "language_info": {
   "codemirror_mode": {
    "name": "ipython",
    "version": 3
   },
   "file_extension": ".py",
   "mimetype": "text/x-python",
   "name": "python",
   "nbconvert_exporter": "python",
   "pygments_lexer": "ipython3",
   "version": "3.8.5"
  }
 },
 "nbformat": 4,
 "nbformat_minor": 4
}
