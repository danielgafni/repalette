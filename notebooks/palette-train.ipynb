{
 "cells": [
  {
   "cell_type": "code",
   "execution_count": 1,
   "metadata": {},
   "outputs": [],
   "source": [
    "# from repalette.models.palette_net import PaletteNet\n",
    "# from repalette.models.gan import GAN\n",
    "from repalette.lightning import AdversarialTrainer, PreTrainer\n",
    "from repalette.datasets import TripletRecolorDataset, PairRecolorDataset\n",
    "from repalette.datasets.utils import ShuffleDataLoader\n",
    "import pytorch_lightning as pl\n",
    "from torch.utils.data import DataLoader, Dataset\n",
    "import torch\n",
    "import torch.nn as nn"
   ]
  },
  {
   "cell_type": "code",
   "execution_count": 2,
   "metadata": {},
   "outputs": [],
   "source": [
    "multiplier = 16\n",
    "dataset = PairRecolorDataset(multiplier, shuffle_palette=False, sort_palette=True)\n",
    "train_data, val_data = dataset.split()\n",
    "train = ShuffleDataLoader(train_data, batch_size=2, num_workers=4)\n",
    "val = ShuffleDataLoader(val_data, batch_size=2, num_workers=4)"
   ]
  },
  {
   "cell_type": "code",
   "execution_count": 3,
   "metadata": {},
   "outputs": [],
   "source": [
    "model = PreTrainer(train, val)\n",
    "# trainer = pl.Trainer()\n",
    "# trainer.fit(model, train, val)"
   ]
  },
  {
   "cell_type": "code",
   "execution_count": 4,
   "metadata": {},
   "outputs": [],
   "source": [
    "multiplier = 16\n",
    "dataset = TripletRecolorDataset(multiplier, shuffle_palette=False, sort_palette=True)\n",
    "train_data, val_data = dataset.split()\n",
    "train = ShuffleDataLoader(train_data, batch_size=2, num_workers=4)\n",
    "val = ShuffleDataLoader(val_data, batch_size=2, num_workers=4)"
   ]
  },
  {
   "cell_type": "code",
   "execution_count": null,
   "metadata": {
    "deletable": false,
    "editable": false,
    "run_control": {
     "frozen": true
    }
   },
   "outputs": [],
   "source": [
    "gan.training_step(next(iter(train)), 0, 1)"
   ]
  },
  {
   "cell_type": "code",
   "execution_count": null,
   "metadata": {},
   "outputs": [
    {
     "name": "stderr",
     "output_type": "stream",
     "text": [
      "GPU available: False, used: False\n",
      "TPU available: False, using: 0 TPU cores\n",
      "\n",
      "  | Name          | Type          | Params\n",
      "------------------------------------------------\n",
      "0 | generator     | PaletteNet    | 13.9 M\n",
      "1 | discriminator | Discriminator | 2.8 M \n",
      "2 | loss_fn       | MSELoss       | 0     \n"
     ]
    },
    {
     "data": {
      "application/vnd.jupyter.widget-view+json": {
       "model_id": "",
       "version_major": 2,
       "version_minor": 0
      },
      "text/plain": [
       "HBox(children=(HTML(value='Validation sanity check'), FloatProgress(value=1.0, bar_style='info', layout=Layout…"
      ]
     },
     "metadata": {},
     "output_type": "display_data"
    },
    {
     "data": {
      "application/vnd.jupyter.widget-view+json": {
       "model_id": "75d31afbbb594beea5a051d04b8b822a",
       "version_major": 2,
       "version_minor": 0
      },
      "text/plain": [
       "HBox(children=(HTML(value='Training'), FloatProgress(value=1.0, bar_style='info', layout=Layout(flex='2'), max…"
      ]
     },
     "metadata": {},
     "output_type": "display_data"
    }
   ],
   "source": [
    "gan = AdversarialTrainer(model.model, train, val)\n",
    "trainer = pl.Trainer()\n",
    "trainer.fit(gan, train, val)"
   ]
  },
  {
   "cell_type": "code",
   "execution_count": null,
   "metadata": {},
   "outputs": [],
   "source": []
  }
 ],
 "metadata": {
  "kernelspec": {
   "display_name": "Python 3",
   "language": "python",
   "name": "python3"
  },
  "language_info": {
   "codemirror_mode": {
    "name": "ipython",
    "version": 3
   },
   "file_extension": ".py",
   "mimetype": "text/x-python",
   "name": "python",
   "nbconvert_exporter": "python",
   "pygments_lexer": "ipython3",
   "version": "3.8.5"
  }
 },
 "nbformat": 4,
 "nbformat_minor": 4
}
