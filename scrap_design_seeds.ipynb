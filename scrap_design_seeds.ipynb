{
 "cells": [
  {
   "cell_type": "code",
   "execution_count": 1,
   "metadata": {},
   "outputs": [],
   "source": [
    "import requests\n",
    "\n",
    "def save_image(url, path):\n",
    "    img_data = requests.get(url).content\n",
    "    with open(path, 'wb') as handler:\n",
    "        handler.write(img_data)\n",
    "        \n",
    "\n",
    "from PIL.ImageColor import getrgb\n",
    "import numpy as np\n",
    "\n",
    "class Palette:\n",
    "    colors = []  # html color codes\n",
    "    def __init__(self, colors):\n",
    "        assert len(colors) == 6\n",
    "        self.colors = colors\n",
    "        \n",
    "    def to_numpy(self):\n",
    "        numpy_colors = np.array([getrgb(color) for color in self.colors])\n",
    "        return numpy_colors"
   ]
  },
  {
   "cell_type": "code",
   "execution_count": 6,
   "metadata": {},
   "outputs": [],
   "source": [
    "import requests\n",
    "from bs4 import BeautifulSoup\n",
    "import pandas as pd\n",
    "from tqdm import tqdm\n",
    "\n",
    "def parse_root(root_url=\"https://www.design-seeds.com/\"):\n",
    "    soup = BeautifulSoup(requests.get(root_url).content, 'html.parser')\n",
    "    category_urls = []\n",
    "    for url in [url[\"href\"] if \"category\" in url[\"href\"] else None for url in soup.find_all(\"a\")]:\n",
    "        if url:\n",
    "            category_urls.append(url)\n",
    "    return category_urls\n",
    "\n",
    "\n",
    "def parse_category(category_url=\"https://www.design-seeds.com/category/seasons/summer/\"):\n",
    "    soup = BeautifulSoup(requests.get(category_url).content, 'html.parser')\n",
    "    design_urls = [elem.find(\"a\")[\"href\"] for elem in soup.find_all(class_=\"parker-featured-img\")]\n",
    "    return design_urls\n",
    "\n",
    "\n",
    "def parse_design(design_url=\"https://www.design-seeds.com/seasons/summer/sweet-hues-7/\"):\n",
    "    soup = BeautifulSoup(requests.get(design_url).content, 'html.parser')\n",
    "    image_url = soup.find(class_=\"parker-featured-img\").contents[1][\"src\"]\n",
    "    colors = [elem.text for elem in  soup.find_all(class_=\"palette-chips\")[0].find_all(\"li\")]\n",
    "    return image_url, colors\n",
    "\n",
    "\n",
    "def parse_all():\n",
    "    image_urls = []\n",
    "    palettes = []\n",
    "    for category_url in tqdm(parse_root()):\n",
    "        for design_url in parse_category(category_url):\n",
    "            image_url, colors = parse_design(design_url)\n",
    "            if colors:\n",
    "                assert len(colors) == 6\n",
    "                palettte = Palette(colors)\n",
    "                image_urls.append(image_url)\n",
    "                palettes.append(palette.to_numpy())\n",
    "            \n",
    "    return pd.DataFrame({\"image_url\": image_urls, \"palette\": palettes})"
   ]
  },
  {
   "cell_type": "code",
   "execution_count": 257,
   "metadata": {},
   "outputs": [
    {
     "name": "stdout",
     "output_type": "stream",
     "text": [
      "Category ['category', 'seasons'] parsed...\n",
      "Category ['seasons', 'summer'] parsed...\n",
      "Category ['seasons', 'autumn'] parsed...\n",
      "Category ['seasons', 'winter'] parsed...\n",
      "Category ['seasons', 'spring'] parsed...\n",
      "Category ['category', 'in-nature'] parsed...\n",
      "Category ['in-nature', 'flora'] parsed...\n",
      "Category ['in-nature', 'heavens'] parsed...\n",
      "Category ['in-nature', 'succulents'] parsed...\n",
      "Category ['in-nature', 'creatures'] parsed...\n",
      "Category ['in-nature', 'nature-made'] parsed...\n",
      "Category ['category', 'wander'] parsed...\n",
      "Category ['wander', 'wanderlust'] parsed...\n",
      "Category ['wander', 'sea'] parsed...\n",
      "Category ['category', 'studio-hues'] parsed...\n",
      "Category ['studio-hues', 'collage'] parsed...\n",
      "Category ['studio-hues', 'maker'] parsed...\n",
      "Category ['category', 'edible-hues'] parsed...\n",
      "Category ['edible-hues', 'culinary-color'] parsed...\n",
      "Category ['edible-hues', 'sweet-tooth'] parsed...\n"
     ]
    }
   ],
   "source": [
    "data = parse_all()"
   ]
  },
  {
   "cell_type": "code",
   "execution_count": 263,
   "metadata": {},
   "outputs": [],
   "source": [
    "data.to_csv(\"design-seeds.csv\")"
   ]
  },
  {
   "cell_type": "code",
   "execution_count": 3,
   "metadata": {},
   "outputs": [],
   "source": [
    "data = pd.read_csv(\"design-seeds.csv\")"
   ]
  },
  {
   "cell_type": "code",
   "execution_count": 7,
   "metadata": {},
   "outputs": [],
   "source": [
    "import os\n",
    "\n",
    "def save_images(df):\n",
    "    if not os.path.exists(\"data\"):\n",
    "        os.mkdir(\"data\")\n",
    "    for i, row in tqdm(df.iterrows()):\n",
    "        image_url = row[\"image_url\"]\n",
    "        save_image(image_url, f\"data/{i}.jpg\")\n",
    "        np.save(f\"data/{i}.npy\", row[\"palette\"])"
   ]
  },
  {
   "cell_type": "code",
   "execution_count": 8,
   "metadata": {},
   "outputs": [
    {
     "name": "stderr",
     "output_type": "stream",
     "text": [
      "120it [02:22,  1.19s/it]\n"
     ]
    }
   ],
   "source": [
    "save_images(data)"
   ]
  }
 ],
 "metadata": {
  "kernelspec": {
   "display_name": "Python 3",
   "language": "python",
   "name": "python3"
  },
  "language_info": {
   "codemirror_mode": {
    "name": "ipython",
    "version": 3
   },
   "file_extension": ".py",
   "mimetype": "text/x-python",
   "name": "python",
   "nbconvert_exporter": "python",
   "pygments_lexer": "ipython3",
   "version": "3.8.5"
  }
 },
 "nbformat": 4,
 "nbformat_minor": 4
}
