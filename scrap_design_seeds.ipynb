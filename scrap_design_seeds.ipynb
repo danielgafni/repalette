{
 "cells": [
  {
   "cell_type": "code",
   "execution_count": 1,
   "metadata": {},
   "outputs": [],
   "source": [
    "from PIL.ImageColor import getrgb\n",
    "import numpy as np\n",
    "\n",
    "class Palette:\n",
    "    colors = []  # html color codes\n",
    "    def __init__(self, colors):\n",
    "        assert len(colors) == 6\n",
    "        self.colors = colors\n",
    "        \n",
    "    def to_numpy(self):\n",
    "        numpy_colors = np.array([getrgb(color) for color in self.colors])\n",
    "        return numpy_colors"
   ]
  },
  {
   "cell_type": "code",
   "execution_count": 2,
   "metadata": {},
   "outputs": [],
   "source": [
    "import requests\n",
    "from bs4 import BeautifulSoup\n",
    "import pandas as pd\n",
    "from tqdm import tqdm\n",
    "\n",
    "def parse_root(root_url=\"https://www.design-seeds.com/\"):\n",
    "    soup = BeautifulSoup(requests.get(root_url).content, 'html.parser')\n",
    "    category_urls = []\n",
    "    for url in [url[\"href\"] if \"category\" in url[\"href\"] else None for url in soup.find_all(\"a\")]:\n",
    "        if url:\n",
    "            category_urls.append(url)\n",
    "    return category_urls\n",
    "\n",
    "\n",
    "def parse_category(category_url=\"https://www.design-seeds.com/category/seasons/summer/\"):\n",
    "    soup = BeautifulSoup(requests.get(category_url).content, 'html.parser')\n",
    "    design_urls = [elem.find(\"a\")[\"href\"] for elem in soup.find_all(class_=\"parker-featured-img\")]\n",
    "    return design_urls\n",
    "\n",
    "\n",
    "def parse_design(design_url=\"https://www.design-seeds.com/seasons/summer/sweet-hues-7/\"):\n",
    "    soup = BeautifulSoup(requests.get(design_url).content, 'html.parser')\n",
    "    image_url = soup.find(class_=\"parker-featured-img\").contents[1][\"src\"]\n",
    "    colors = [elem.text for elem in  soup.find_all(class_=\"palette-chips\")[0].find_all(\"li\")]\n",
    "    return image_url, colors\n",
    "\n",
    "\n",
    "def parse_all():\n",
    "    image_urls = []\n",
    "    palettes = []\n",
    "    for category_url in tqdm(parse_root()):\n",
    "        for design_url in parse_category(category_url):\n",
    "            image_url, colors = parse_design(design_url)\n",
    "            if colors:\n",
    "                assert len(colors) == 6\n",
    "                palette = Palette(colors)\n",
    "                image_urls.append(image_url)\n",
    "                palettes.append(palette.to_numpy())\n",
    "            \n",
    "    return pd.DataFrame({\"image_url\": image_urls, \"palette\": palettes})"
   ]
  },
  {
   "cell_type": "code",
   "execution_count": 214,
   "metadata": {},
   "outputs": [
    {
     "name": "stderr",
     "output_type": "stream",
     "text": [
      "100%|██████████| 20/20 [01:23<00:00,  4.17s/it]\n"
     ]
    }
   ],
   "source": [
    "data = parse_all()"
   ]
  },
  {
   "cell_type": "code",
   "execution_count": 215,
   "metadata": {},
   "outputs": [],
   "source": [
    "data.to_csv(\"design-seeds-download.csv\", index=False)"
   ]
  },
  {
   "cell_type": "code",
   "execution_count": 216,
   "metadata": {},
   "outputs": [],
   "source": [
    "data = pd.read_csv(\"design-seeds-download.csv\")"
   ]
  },
  {
   "cell_type": "code",
   "execution_count": 217,
   "metadata": {},
   "outputs": [
    {
     "data": {
      "text/html": [
       "<div>\n",
       "<style scoped>\n",
       "    .dataframe tbody tr th:only-of-type {\n",
       "        vertical-align: middle;\n",
       "    }\n",
       "\n",
       "    .dataframe tbody tr th {\n",
       "        vertical-align: top;\n",
       "    }\n",
       "\n",
       "    .dataframe thead th {\n",
       "        text-align: right;\n",
       "    }\n",
       "</style>\n",
       "<table border=\"1\" class=\"dataframe\">\n",
       "  <thead>\n",
       "    <tr style=\"text-align: right;\">\n",
       "      <th></th>\n",
       "      <th>image_url</th>\n",
       "      <th>palette</th>\n",
       "    </tr>\n",
       "  </thead>\n",
       "  <tbody>\n",
       "    <tr>\n",
       "      <th>0</th>\n",
       "      <td>https://www.design-seeds.com/wp-content/upload...</td>\n",
       "      <td>[[238 222 206]\\n [214 181 170]\\n [170 124 114]...</td>\n",
       "    </tr>\n",
       "    <tr>\n",
       "      <th>1</th>\n",
       "      <td>https://www.design-seeds.com/wp-content/upload...</td>\n",
       "      <td>[[232 216 204]\\n [206 167 156]\\n [ 97  86  78]...</td>\n",
       "    </tr>\n",
       "    <tr>\n",
       "      <th>2</th>\n",
       "      <td>https://www.design-seeds.com/wp-content/upload...</td>\n",
       "      <td>[[225 182 211]\\n [145  70  95]\\n [ 87  70  68]...</td>\n",
       "    </tr>\n",
       "    <tr>\n",
       "      <th>3</th>\n",
       "      <td>https://www.design-seeds.com/wp-content/upload...</td>\n",
       "      <td>[[243 240 242]\\n [247 233 228]\\n [251 185 171]...</td>\n",
       "    </tr>\n",
       "    <tr>\n",
       "      <th>4</th>\n",
       "      <td>https://www.design-seeds.com/wp-content/upload...</td>\n",
       "      <td>[[175 189 184]\\n [ 84 130 121]\\n [ 55  46  46]...</td>\n",
       "    </tr>\n",
       "  </tbody>\n",
       "</table>\n",
       "</div>"
      ],
      "text/plain": [
       "                                           image_url  \\\n",
       "0  https://www.design-seeds.com/wp-content/upload...   \n",
       "1  https://www.design-seeds.com/wp-content/upload...   \n",
       "2  https://www.design-seeds.com/wp-content/upload...   \n",
       "3  https://www.design-seeds.com/wp-content/upload...   \n",
       "4  https://www.design-seeds.com/wp-content/upload...   \n",
       "\n",
       "                                             palette  \n",
       "0  [[238 222 206]\\n [214 181 170]\\n [170 124 114]...  \n",
       "1  [[232 216 204]\\n [206 167 156]\\n [ 97  86  78]...  \n",
       "2  [[225 182 211]\\n [145  70  95]\\n [ 87  70  68]...  \n",
       "3  [[243 240 242]\\n [247 233 228]\\n [251 185 171]...  \n",
       "4  [[175 189 184]\\n [ 84 130 121]\\n [ 55  46  46]...  "
      ]
     },
     "execution_count": 217,
     "metadata": {},
     "output_type": "execute_result"
    }
   ],
   "source": [
    "data.head()"
   ]
  },
  {
   "cell_type": "code",
   "execution_count": 3,
   "metadata": {},
   "outputs": [],
   "source": [
    "import requests\n",
    "\n",
    "def save_image(url, path):\n",
    "    img_data = requests.get(url).content\n",
    "    with open(path, 'wb') as handler:\n",
    "        handler.write(img_data)"
   ]
  },
  {
   "cell_type": "code",
   "execution_count": 4,
   "metadata": {},
   "outputs": [],
   "source": [
    "import os\n",
    "\n",
    "def save_images(df):\n",
    "    if not os.path.exists(\"data\"):\n",
    "        os.mkdir(\"data\")\n",
    "    for i, row in tqdm(df.iterrows(), total=len(data)):\n",
    "        image_url = row[\"image_url\"]\n",
    "        save_image(image_url, f\"data/{i}.jpg\")"
   ]
  },
  {
   "cell_type": "code",
   "execution_count": 220,
   "metadata": {},
   "outputs": [
    {
     "name": "stderr",
     "output_type": "stream",
     "text": [
      "100%|██████████| 120/120 [02:27<00:00,  1.23s/it]\n"
     ]
    }
   ],
   "source": [
    "save_images(data)"
   ]
  },
  {
   "cell_type": "code",
   "execution_count": 221,
   "metadata": {},
   "outputs": [],
   "source": [
    "for i, row in data.iterrows():\n",
    "    row[\"image_url\"] = f\"data/{i}.jpg\"\n",
    "data.columns = [\"image_path\", \"palette\"]\n",
    "data.to_csv(\"design-seeds.csv\", index=False)"
   ]
  },
  {
   "cell_type": "code",
   "execution_count": 5,
   "metadata": {},
   "outputs": [],
   "source": [
    "data = pd.read_csv(\"design-seeds.csv\")"
   ]
  },
  {
   "cell_type": "code",
   "execution_count": 6,
   "metadata": {},
   "outputs": [
    {
     "data": {
      "text/html": [
       "<div>\n",
       "<style scoped>\n",
       "    .dataframe tbody tr th:only-of-type {\n",
       "        vertical-align: middle;\n",
       "    }\n",
       "\n",
       "    .dataframe tbody tr th {\n",
       "        vertical-align: top;\n",
       "    }\n",
       "\n",
       "    .dataframe thead th {\n",
       "        text-align: right;\n",
       "    }\n",
       "</style>\n",
       "<table border=\"1\" class=\"dataframe\">\n",
       "  <thead>\n",
       "    <tr style=\"text-align: right;\">\n",
       "      <th></th>\n",
       "      <th>image_path</th>\n",
       "      <th>palette</th>\n",
       "    </tr>\n",
       "  </thead>\n",
       "  <tbody>\n",
       "    <tr>\n",
       "      <th>0</th>\n",
       "      <td>data/0.jpg</td>\n",
       "      <td>[[238 222 206]\\n [214 181 170]\\n [170 124 114]...</td>\n",
       "    </tr>\n",
       "    <tr>\n",
       "      <th>1</th>\n",
       "      <td>data/1.jpg</td>\n",
       "      <td>[[232 216 204]\\n [206 167 156]\\n [ 97  86  78]...</td>\n",
       "    </tr>\n",
       "    <tr>\n",
       "      <th>2</th>\n",
       "      <td>data/2.jpg</td>\n",
       "      <td>[[225 182 211]\\n [145  70  95]\\n [ 87  70  68]...</td>\n",
       "    </tr>\n",
       "    <tr>\n",
       "      <th>3</th>\n",
       "      <td>data/3.jpg</td>\n",
       "      <td>[[243 240 242]\\n [247 233 228]\\n [251 185 171]...</td>\n",
       "    </tr>\n",
       "    <tr>\n",
       "      <th>4</th>\n",
       "      <td>data/4.jpg</td>\n",
       "      <td>[[175 189 184]\\n [ 84 130 121]\\n [ 55  46  46]...</td>\n",
       "    </tr>\n",
       "    <tr>\n",
       "      <th>...</th>\n",
       "      <td>...</td>\n",
       "      <td>...</td>\n",
       "    </tr>\n",
       "    <tr>\n",
       "      <th>115</th>\n",
       "      <td>data/115.jpg</td>\n",
       "      <td>[[252 230 232]\\n [247 122 146]\\n [146 218 183]...</td>\n",
       "    </tr>\n",
       "    <tr>\n",
       "      <th>116</th>\n",
       "      <td>data/116.jpg</td>\n",
       "      <td>[[253 209 201]\\n [177 215 184]\\n [241 110 136]...</td>\n",
       "    </tr>\n",
       "    <tr>\n",
       "      <th>117</th>\n",
       "      <td>data/117.jpg</td>\n",
       "      <td>[[177 227 208]\\n [103 189 151]\\n [214 164  86]...</td>\n",
       "    </tr>\n",
       "    <tr>\n",
       "      <th>118</th>\n",
       "      <td>data/118.jpg</td>\n",
       "      <td>[[240 211 199]\\n [232 125 116]\\n [179  46  34]...</td>\n",
       "    </tr>\n",
       "    <tr>\n",
       "      <th>119</th>\n",
       "      <td>data/119.jpg</td>\n",
       "      <td>[[201 235 220]\\n [147 204 180]\\n [222 111 170]...</td>\n",
       "    </tr>\n",
       "  </tbody>\n",
       "</table>\n",
       "<p>120 rows × 2 columns</p>\n",
       "</div>"
      ],
      "text/plain": [
       "       image_path                                            palette\n",
       "0      data/0.jpg  [[238 222 206]\\n [214 181 170]\\n [170 124 114]...\n",
       "1      data/1.jpg  [[232 216 204]\\n [206 167 156]\\n [ 97  86  78]...\n",
       "2      data/2.jpg  [[225 182 211]\\n [145  70  95]\\n [ 87  70  68]...\n",
       "3      data/3.jpg  [[243 240 242]\\n [247 233 228]\\n [251 185 171]...\n",
       "4      data/4.jpg  [[175 189 184]\\n [ 84 130 121]\\n [ 55  46  46]...\n",
       "..            ...                                                ...\n",
       "115  data/115.jpg  [[252 230 232]\\n [247 122 146]\\n [146 218 183]...\n",
       "116  data/116.jpg  [[253 209 201]\\n [177 215 184]\\n [241 110 136]...\n",
       "117  data/117.jpg  [[177 227 208]\\n [103 189 151]\\n [214 164  86]...\n",
       "118  data/118.jpg  [[240 211 199]\\n [232 125 116]\\n [179  46  34]...\n",
       "119  data/119.jpg  [[201 235 220]\\n [147 204 180]\\n [222 111 170]...\n",
       "\n",
       "[120 rows x 2 columns]"
      ]
     },
     "execution_count": 6,
     "metadata": {},
     "output_type": "execute_result"
    }
   ],
   "source": [
    "data"
   ]
  },
  {
   "cell_type": "code",
   "execution_count": 76,
   "metadata": {},
   "outputs": [],
   "source": [
    "import cv2\n",
    "from PIL import Image\n",
    "def crop_image(path=\"data/0.jpg\"):\n",
    "    MIN_PIXELS = 30467\n",
    "    img = cv2.imread(path)\n",
    "    if np.prod(img.shape) < MIN_PIXELS:\n",
    "        print(np.prod(img.shape), path)\n",
    "        return None\n",
    "    if img.shape[0] / img.shape[1] < 1:\n",
    "        y1_relative = 740 / 1197\n",
    "        y2_relative = 745 / 1197\n",
    "        y1 = int(y1_relative * img.shape[1])\n",
    "        y2 = int(y2_relative * img.shape[1])\n",
    "        \n",
    "        y3_relative = 302 / 470\n",
    "        y4_relative = 307 / 470\n",
    "        y3 = int(y3_relative * img.shape[1])\n",
    "        y4 = int(y4_relative * img.shape[1])\n",
    "        \n",
    "        if img[:, y1:y2, :].mean() > 254:\n",
    "            y_cut = int(725 / 1197 * img.shape[1])\n",
    "            return img[:, :y_cut, :]\n",
    "        elif img[:, y3:y4, :].mean() > 254:\n",
    "            y_cut = int(300 / 740 * img.shape[1])\n",
    "            return img[:, :y_cut, :]\n",
    "        else:\n",
    "            print(path)\n",
    "            return None\n",
    "    else:\n",
    "        y1_relative = 800 / 1307\n",
    "        y2_relative = 805 / 1307\n",
    "        y1 = int(y1_relative * img.shape[0])\n",
    "        y2 = int(y2_relative * img.shape[0])\n",
    "        \n",
    "        y3_relative = 268 / 436\n",
    "        y4_relative = 272 / 436\n",
    "        y3 = int(y3_relative * img.shape[0])\n",
    "        y4 = int(y4_relative * img.shape[0])\n",
    "        \n",
    "        if img[y1:y2, :, :].mean() > 254:\n",
    "            y_cut = int(795 / 1307 * img.shape[0])\n",
    "            return img[:y_cut, :, :]\n",
    "        elif img[y3:y4, :, :].mean() > 254:\n",
    "            y_cut = int(265 / 436 * img.shape[0])\n",
    "            return img[:y_cut, :, :]\n",
    "        else:\n",
    "            print(path)\n",
    "            return None"
   ]
  },
  {
   "cell_type": "code",
   "execution_count": 77,
   "metadata": {},
   "outputs": [],
   "source": [
    "import os\n",
    "def crop_images():\n",
    "    image_paths = []\n",
    "    palettes = []\n",
    "    if not os.path.exists(\"data-cropped\"):\n",
    "        os.makedirs(\"data-cropped\")\n",
    "    i = 0\n",
    "    for _, row in tqdm(data.iterrows()):\n",
    "#         print(row[\"image_path\"])\n",
    "        img = crop_image(row[\"image_path\"])\n",
    "        if img is not None:\n",
    "            cv2.imwrite(f\"data-cropped/{i}.jpg\", img)\n",
    "            i += 1\n",
    "            image_paths.append(f\"data-cropped/{i}.jpg\")\n",
    "            palettes.append(row[\"palette\"])\n",
    "            \n",
    "    return pd.DataFrame({\"path\": image_paths, \"palette\": palettes})"
   ]
  },
  {
   "cell_type": "code",
   "execution_count": 78,
   "metadata": {},
   "outputs": [
    {
     "name": "stderr",
     "output_type": "stream",
     "text": [
      "120it [00:04, 27.42it/s]\n"
     ]
    }
   ],
   "source": [
    "data_cropped = crop_images()"
   ]
  },
  {
   "cell_type": "code",
   "execution_count": 79,
   "metadata": {},
   "outputs": [
    {
     "data": {
      "text/html": [
       "<div>\n",
       "<style scoped>\n",
       "    .dataframe tbody tr th:only-of-type {\n",
       "        vertical-align: middle;\n",
       "    }\n",
       "\n",
       "    .dataframe tbody tr th {\n",
       "        vertical-align: top;\n",
       "    }\n",
       "\n",
       "    .dataframe thead th {\n",
       "        text-align: right;\n",
       "    }\n",
       "</style>\n",
       "<table border=\"1\" class=\"dataframe\">\n",
       "  <thead>\n",
       "    <tr style=\"text-align: right;\">\n",
       "      <th></th>\n",
       "      <th>path</th>\n",
       "      <th>palette</th>\n",
       "    </tr>\n",
       "  </thead>\n",
       "  <tbody>\n",
       "    <tr>\n",
       "      <th>0</th>\n",
       "      <td>data-cropped/1.jpg</td>\n",
       "      <td>[[238 222 206]\\n [214 181 170]\\n [170 124 114]...</td>\n",
       "    </tr>\n",
       "    <tr>\n",
       "      <th>1</th>\n",
       "      <td>data-cropped/2.jpg</td>\n",
       "      <td>[[232 216 204]\\n [206 167 156]\\n [ 97  86  78]...</td>\n",
       "    </tr>\n",
       "    <tr>\n",
       "      <th>2</th>\n",
       "      <td>data-cropped/3.jpg</td>\n",
       "      <td>[[225 182 211]\\n [145  70  95]\\n [ 87  70  68]...</td>\n",
       "    </tr>\n",
       "    <tr>\n",
       "      <th>3</th>\n",
       "      <td>data-cropped/4.jpg</td>\n",
       "      <td>[[243 240 242]\\n [247 233 228]\\n [251 185 171]...</td>\n",
       "    </tr>\n",
       "    <tr>\n",
       "      <th>4</th>\n",
       "      <td>data-cropped/5.jpg</td>\n",
       "      <td>[[175 189 184]\\n [ 84 130 121]\\n [ 55  46  46]...</td>\n",
       "    </tr>\n",
       "    <tr>\n",
       "      <th>...</th>\n",
       "      <td>...</td>\n",
       "      <td>...</td>\n",
       "    </tr>\n",
       "    <tr>\n",
       "      <th>115</th>\n",
       "      <td>data-cropped/116.jpg</td>\n",
       "      <td>[[252 230 232]\\n [247 122 146]\\n [146 218 183]...</td>\n",
       "    </tr>\n",
       "    <tr>\n",
       "      <th>116</th>\n",
       "      <td>data-cropped/117.jpg</td>\n",
       "      <td>[[253 209 201]\\n [177 215 184]\\n [241 110 136]...</td>\n",
       "    </tr>\n",
       "    <tr>\n",
       "      <th>117</th>\n",
       "      <td>data-cropped/118.jpg</td>\n",
       "      <td>[[177 227 208]\\n [103 189 151]\\n [214 164  86]...</td>\n",
       "    </tr>\n",
       "    <tr>\n",
       "      <th>118</th>\n",
       "      <td>data-cropped/119.jpg</td>\n",
       "      <td>[[240 211 199]\\n [232 125 116]\\n [179  46  34]...</td>\n",
       "    </tr>\n",
       "    <tr>\n",
       "      <th>119</th>\n",
       "      <td>data-cropped/120.jpg</td>\n",
       "      <td>[[201 235 220]\\n [147 204 180]\\n [222 111 170]...</td>\n",
       "    </tr>\n",
       "  </tbody>\n",
       "</table>\n",
       "<p>120 rows × 2 columns</p>\n",
       "</div>"
      ],
      "text/plain": [
       "                     path                                            palette\n",
       "0      data-cropped/1.jpg  [[238 222 206]\\n [214 181 170]\\n [170 124 114]...\n",
       "1      data-cropped/2.jpg  [[232 216 204]\\n [206 167 156]\\n [ 97  86  78]...\n",
       "2      data-cropped/3.jpg  [[225 182 211]\\n [145  70  95]\\n [ 87  70  68]...\n",
       "3      data-cropped/4.jpg  [[243 240 242]\\n [247 233 228]\\n [251 185 171]...\n",
       "4      data-cropped/5.jpg  [[175 189 184]\\n [ 84 130 121]\\n [ 55  46  46]...\n",
       "..                    ...                                                ...\n",
       "115  data-cropped/116.jpg  [[252 230 232]\\n [247 122 146]\\n [146 218 183]...\n",
       "116  data-cropped/117.jpg  [[253 209 201]\\n [177 215 184]\\n [241 110 136]...\n",
       "117  data-cropped/118.jpg  [[177 227 208]\\n [103 189 151]\\n [214 164  86]...\n",
       "118  data-cropped/119.jpg  [[240 211 199]\\n [232 125 116]\\n [179  46  34]...\n",
       "119  data-cropped/120.jpg  [[201 235 220]\\n [147 204 180]\\n [222 111 170]...\n",
       "\n",
       "[120 rows x 2 columns]"
      ]
     },
     "execution_count": 79,
     "metadata": {},
     "output_type": "execute_result"
    }
   ],
   "source": [
    "data_cropped"
   ]
  },
  {
   "cell_type": "code",
   "execution_count": 81,
   "metadata": {},
   "outputs": [],
   "source": [
    "data_cropped.to_csv(\"design-seeds-cropped.csv\", index=False)"
   ]
  },
  {
   "cell_type": "code",
   "execution_count": 63,
   "metadata": {},
   "outputs": [
    {
     "data": {
      "text/plain": [
       "255.0"
      ]
     },
     "execution_count": 63,
     "metadata": {},
     "output_type": "execute_result"
    }
   ],
   "source": []
  },
  {
   "cell_type": "code",
   "execution_count": 68,
   "metadata": {},
   "outputs": [
    {
     "data": {
      "text/plain": [
       "(398, 470, 3)"
      ]
     },
     "execution_count": 68,
     "metadata": {},
     "output_type": "execute_result"
    }
   ],
   "source": []
  },
  {
   "cell_type": "code",
   "execution_count": null,
   "metadata": {},
   "outputs": [],
   "source": []
  },
  {
   "cell_type": "code",
   "execution_count": null,
   "metadata": {},
   "outputs": [],
   "source": []
  },
  {
   "cell_type": "code",
   "execution_count": null,
   "metadata": {},
   "outputs": [],
   "source": []
  },
  {
   "cell_type": "code",
   "execution_count": null,
   "metadata": {},
   "outputs": [],
   "source": []
  },
  {
   "cell_type": "code",
   "execution_count": null,
   "metadata": {},
   "outputs": [],
   "source": []
  }
 ],
 "metadata": {
  "kernelspec": {
   "display_name": "Python 3",
   "language": "python",
   "name": "python3"
  },
  "language_info": {
   "codemirror_mode": {
    "name": "ipython",
    "version": 3
   },
   "file_extension": ".py",
   "mimetype": "text/x-python",
   "name": "python",
   "nbconvert_exporter": "python",
   "pygments_lexer": "ipython3",
   "version": "3.8.5"
  }
 },
 "nbformat": 4,
 "nbformat_minor": 4
}
